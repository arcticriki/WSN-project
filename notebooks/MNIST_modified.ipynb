{
  "cells": [
    {
      "cell_type": "markdown",
      "metadata": {
        "id": "view-in-github",
        "colab_type": "text"
      },
      "source": [
        "<a href=\"https://colab.research.google.com/github/arcticriki/WSN-project/blob/master/notebooks/MNIST_modified.ipynb\" target=\"_parent\"><img src=\"https://colab.research.google.com/assets/colab-badge.svg\" alt=\"Open In Colab\"/></a>"
      ]
    },
    {
      "cell_type": "markdown",
      "metadata": {
        "id": "DJsUjs19_v63"
      },
      "source": [
        "# MNIST with SciKit-Learn and skorch\n",
        "\n",
        "This notebooks shows how to define and train a simple Neural-Network with PyTorch and use it via skorch with SciKit-Learn.\n",
        "\n",
        "<table align=\"left\"><td>\n",
        "<a target=\"_blank\" href=\"https://colab.research.google.com/github/skorch-dev/skorch/blob/master/notebooks/MNIST.ipynb\">\n",
        "    <img src=\"https://www.tensorflow.org/images/colab_logo_32px.png\" />Run in Google Colab</a>  \n",
        "</td><td>\n",
        "<a target=\"_blank\" href=\"https://github.com/skorch-dev/skorch/blob/master/notebooks/MNIST.ipynb\"><img width=32px src=\"https://www.tensorflow.org/images/GitHub-Mark-32px.png\" />View source on GitHub</a></td></table>"
      ]
    },
    {
      "cell_type": "markdown",
      "metadata": {
        "id": "-zmIlvxI_v68"
      },
      "source": [
        "**Note**: If you are running this in [a colab notebook](https://colab.research.google.com/github/skorch-dev/skorch/blob/master/notebooks/MNIST.ipynb), we recommend you enable a free GPU by going:\n",
        "\n",
        "> **Runtime**   →   **Change runtime type**   →   **Hardware Accelerator: GPU**\n",
        "\n",
        "If you are running in colab, you should install the dependencies and download the dataset by running the following cell:"
      ]
    },
    {
      "cell_type": "code",
      "execution_count": 1,
      "metadata": {
        "id": "8qYGNO2S_v6_"
      },
      "outputs": [],
      "source": [
        "import subprocess\n",
        "\n",
        "# Installation on Google Colab\n",
        "try:\n",
        "    import google.colab\n",
        "    subprocess.run(['python', '-m', 'pip', 'install', 'skorch' , 'torch'])\n",
        "except ImportError:\n",
        "    pass"
      ]
    },
    {
      "cell_type": "code",
      "execution_count": 2,
      "metadata": {
        "id": "Gj0pvjxT_v7G"
      },
      "outputs": [],
      "source": [
        "from sklearn.datasets import fetch_openml\n",
        "from sklearn.model_selection import train_test_split\n",
        "import numpy as np\n",
        "import matplotlib.pyplot as plt"
      ]
    },
    {
      "cell_type": "markdown",
      "metadata": {
        "id": "mPz6Bjqw_v7H"
      },
      "source": [
        "## Loading Data\n",
        "Using SciKit-Learns ```fetch_openml``` to load MNIST data."
      ]
    },
    {
      "cell_type": "code",
      "execution_count": 3,
      "metadata": {
        "id": "mwpfASvc_v7J"
      },
      "outputs": [],
      "source": [
        "mnist = fetch_openml('mnist_784', as_frame=False, cache=False)"
      ]
    },
    {
      "cell_type": "code",
      "execution_count": 4,
      "metadata": {
        "id": "9Pt2JKyb_v7K",
        "outputId": "b62e801b-b471-42e7-b98d-a94e3bc1f2d0",
        "colab": {
          "base_uri": "https://localhost:8080/"
        }
      },
      "outputs": [
        {
          "output_type": "execute_result",
          "data": {
            "text/plain": [
              "(70000, 784)"
            ]
          },
          "metadata": {},
          "execution_count": 4
        }
      ],
      "source": [
        "mnist.data.shape"
      ]
    },
    {
      "cell_type": "markdown",
      "metadata": {
        "id": "sV0ehb52_v7L"
      },
      "source": [
        "## Preprocessing Data\n",
        "\n",
        "Each image of the MNIST dataset is encoded in a 784 dimensional vector, representing a 28 x 28 pixel image. Each pixel has a value between 0 and 255, corresponding to the grey-value of a pixel.<br />\n",
        "The above ```featch_mldata``` method to load MNIST returns ```data``` and ```target``` as ```uint8``` which we convert to ```float32``` and ```int64``` respectively."
      ]
    },
    {
      "cell_type": "code",
      "execution_count": 5,
      "metadata": {
        "id": "F2v_Fwne_v7M"
      },
      "outputs": [],
      "source": [
        "X = mnist.data.astype('float32')\n",
        "y = mnist.target.astype('int64')"
      ]
    },
    {
      "cell_type": "markdown",
      "metadata": {
        "id": "C_yHJarZ_v7N"
      },
      "source": [
        "To avoid big weights that deal with the pixel values from between [0, 255], we scale `X` down. A commonly used range is [0, 1]."
      ]
    },
    {
      "cell_type": "code",
      "execution_count": 6,
      "metadata": {
        "id": "8RirCOTr_v7O"
      },
      "outputs": [],
      "source": [
        "X /= 255.0"
      ]
    },
    {
      "cell_type": "code",
      "execution_count": 7,
      "metadata": {
        "id": "rohyp3d1_v7P",
        "outputId": "297c4ab1-b6be-422c-ece4-1efb8549749e",
        "colab": {
          "base_uri": "https://localhost:8080/"
        }
      },
      "outputs": [
        {
          "output_type": "execute_result",
          "data": {
            "text/plain": [
              "(np.float32(0.0), np.float32(1.0))"
            ]
          },
          "metadata": {},
          "execution_count": 7
        }
      ],
      "source": [
        "X.min(), X.max()"
      ]
    },
    {
      "cell_type": "markdown",
      "metadata": {
        "id": "tyUlsu0V_v7Q"
      },
      "source": [
        "Note: data is not normalized."
      ]
    },
    {
      "cell_type": "code",
      "execution_count": 8,
      "metadata": {
        "id": "gILlsHJS_v7R"
      },
      "outputs": [],
      "source": [
        "X_train, X_test, y_train, y_test = train_test_split(X, y, test_size=0.25, random_state=42)"
      ]
    },
    {
      "cell_type": "code",
      "execution_count": 9,
      "metadata": {
        "id": "jGpA4v4u_v7R"
      },
      "outputs": [],
      "source": [
        "assert(X_train.shape[0] + X_test.shape[0] == mnist.data.shape[0])"
      ]
    },
    {
      "cell_type": "code",
      "execution_count": 10,
      "metadata": {
        "id": "plXmcsp2_v7b",
        "outputId": "669a4eb8-3be4-47ad-e2c3-cb81fa460f18",
        "colab": {
          "base_uri": "https://localhost:8080/"
        }
      },
      "outputs": [
        {
          "output_type": "execute_result",
          "data": {
            "text/plain": [
              "((52500, 784), (52500,))"
            ]
          },
          "metadata": {},
          "execution_count": 10
        }
      ],
      "source": [
        "X_train.shape, y_train.shape"
      ]
    },
    {
      "cell_type": "markdown",
      "metadata": {
        "id": "6EKEvbuP_v7c"
      },
      "source": [
        "### Print a selection of training images and their labels"
      ]
    },
    {
      "cell_type": "code",
      "execution_count": 11,
      "metadata": {
        "id": "C9muXJPC_v7d"
      },
      "outputs": [],
      "source": [
        "def plot_example(X, y):\n",
        "    \"\"\"Plot the first 5 images and their labels in a row.\"\"\"\n",
        "    for i, (img, y) in enumerate(zip(X[:5].reshape(5, 28, 28), y[:5])):\n",
        "        plt.subplot(151 + i)\n",
        "        plt.imshow(img)\n",
        "        plt.xticks([])\n",
        "        plt.yticks([])\n",
        "        plt.title(y)"
      ]
    },
    {
      "cell_type": "code",
      "execution_count": 12,
      "metadata": {
        "id": "h2-R1-Df_v7e",
        "outputId": "b3f17fb3-3479-4510-d376-bddac30e61e6",
        "colab": {
          "base_uri": "https://localhost:8080/",
          "height": 144
        }
      },
      "outputs": [
        {
          "output_type": "display_data",
          "data": {
            "text/plain": [
              "<Figure size 640x480 with 5 Axes>"
            ],
            "image/png": "[encoded data removed]"
          },
          "metadata": {}
        }
      ],
      "source": [
        "plot_example(X_train, y_train)"
      ]
    },
    {
      "cell_type": "markdown",
      "metadata": {
        "id": "YQvC-rWf_v7f"
      },
      "source": [
        "## Build Neural Network with PyTorch\n",
        "Simple, fully connected neural network with one hidden layer. Input layer has 784 dimensions (28x28), hidden layer has 98 (= 784 / 8) and output layer 10 neurons, representing digits 0 - 9."
      ]
    },
    {
      "cell_type": "code",
      "execution_count": 13,
      "metadata": {
        "id": "5PG7R0W8_v7f"
      },
      "outputs": [],
      "source": [
        "import torch\n",
        "from torch import nn\n",
        "import torch.nn.functional as F"
      ]
    },
    {
      "cell_type": "code",
      "execution_count": 14,
      "metadata": {
        "id": "NUjWrGBP_v7g"
      },
      "outputs": [],
      "source": [
        "device = 'cuda' if torch.cuda.is_available() else 'cpu'"
      ]
    },
    {
      "cell_type": "code",
      "source": [
        "print(device)"
      ],
      "metadata": {
        "colab": {
          "base_uri": "https://localhost:8080/"
        },
        "id": "rTHWWPcvTBgc",
        "outputId": "8b423002-0e80-414f-85b9-ea8c65000f8d"
      },
      "execution_count": 15,
      "outputs": [
        {
          "output_type": "stream",
          "name": "stdout",
          "text": [
            "cuda\n"
          ]
        }
      ]
    },
    {
      "cell_type": "code",
      "execution_count": 16,
      "metadata": {
        "id": "gVCW8F3N_v7g"
      },
      "outputs": [],
      "source": [
        "mnist_dim = X.shape[1]\n",
        "hidden_dim = int(mnist_dim/8)\n",
        "output_dim = len(np.unique(mnist.target))"
      ]
    },
    {
      "cell_type": "code",
      "execution_count": 17,
      "metadata": {
        "id": "ShYicHlv_v7h",
        "outputId": "e97c89b7-19f6-4124-e2cf-6f30031e7c06",
        "colab": {
          "base_uri": "https://localhost:8080/"
        }
      },
      "outputs": [
        {
          "output_type": "execute_result",
          "data": {
            "text/plain": [
              "(784, 98, 10)"
            ]
          },
          "metadata": {},
          "execution_count": 17
        }
      ],
      "source": [
        "mnist_dim, hidden_dim, output_dim"
      ]
    },
    {
      "cell_type": "markdown",
      "metadata": {
        "id": "OeVnFhBS_v7i"
      },
      "source": [
        "A Neural network in PyTorch's framework."
      ]
    },
    {
      "cell_type": "code",
      "execution_count": 18,
      "metadata": {
        "id": "Xxtli0l__v7j"
      },
      "outputs": [],
      "source": [
        "class ClassifierModule(nn.Module):\n",
        "    def __init__(\n",
        "            self,\n",
        "            input_dim=mnist_dim,\n",
        "            hidden_dim=hidden_dim,\n",
        "            output_dim=output_dim,\n",
        "            dropout=0.5,\n",
        "    ):\n",
        "        super(ClassifierModule, self).__init__()\n",
        "        self.dropout = nn.Dropout(dropout)\n",
        "\n",
        "        self.hidden = nn.Linear(input_dim, hidden_dim)\n",
        "        self.output = nn.Linear(hidden_dim, output_dim)\n",
        "\n",
        "    def forward(self, X, **kwargs):\n",
        "        X = F.relu(self.hidden(X))\n",
        "        X = self.dropout(X)\n",
        "        X = F.softmax(self.output(X), dim=-1)\n",
        "        return X"
      ]
    },
    {
      "cell_type": "markdown",
      "metadata": {
        "id": "LlEHSwjt_v7k"
      },
      "source": [
        "skorch allows to use PyTorch's networks in the SciKit-Learn setting:"
      ]
    },
    {
      "cell_type": "code",
      "execution_count": 19,
      "metadata": {
        "id": "s0aDatqN_v7l"
      },
      "outputs": [],
      "source": [
        "from skorch import NeuralNetClassifier"
      ]
    },
    {
      "cell_type": "code",
      "execution_count": 20,
      "metadata": {
        "id": "dOrCbBjk_v7m"
      },
      "outputs": [],
      "source": [
        "torch.manual_seed(0)\n",
        "\n",
        "net = NeuralNetClassifier(\n",
        "    ClassifierModule,\n",
        "    max_epochs=20,\n",
        "    lr=0.1,\n",
        "    device=device,\n",
        ")"
      ]
    },
    {
      "cell_type": "code",
      "execution_count": 21,
      "metadata": {
        "id": "8i_gnvPi_v7m",
        "outputId": "e63d40c4-a47b-47fa-ae2c-d74e57b73774",
        "colab": {
          "base_uri": "https://localhost:8080/"
        }
      },
      "outputs": [
        {
          "output_type": "stream",
          "name": "stdout",
          "text": [
            "  epoch    train_loss    valid_acc    valid_loss     dur\n",
            "-------  ------------  -----------  ------------  ------\n",
            "      1        \u001b[36m0.8387\u001b[0m       \u001b[32m0.8800\u001b[0m        \u001b[35m0.4174\u001b[0m  1.5601\n",
            "      2        \u001b[36m0.4332\u001b[0m       \u001b[32m0.9103\u001b[0m        \u001b[35m0.3133\u001b[0m  0.8785\n",
            "      3        \u001b[36m0.3612\u001b[0m       \u001b[32m0.9233\u001b[0m        \u001b[35m0.2684\u001b[0m  0.8923\n",
            "      4        \u001b[36m0.3233\u001b[0m       \u001b[32m0.9309\u001b[0m        \u001b[35m0.2317\u001b[0m  0.8917\n",
            "      5        \u001b[36m0.2938\u001b[0m       \u001b[32m0.9353\u001b[0m        \u001b[35m0.2173\u001b[0m  0.8810\n",
            "      6        \u001b[36m0.2738\u001b[0m       \u001b[32m0.9390\u001b[0m        \u001b[35m0.2039\u001b[0m  0.8960\n",
            "      7        \u001b[36m0.2600\u001b[0m       \u001b[32m0.9454\u001b[0m        \u001b[35m0.1868\u001b[0m  1.3529\n",
            "      8        \u001b[36m0.2427\u001b[0m       \u001b[32m0.9484\u001b[0m        \u001b[35m0.1757\u001b[0m  1.1685\n",
            "      9        \u001b[36m0.2362\u001b[0m       \u001b[32m0.9503\u001b[0m        \u001b[35m0.1683\u001b[0m  1.0849\n",
            "     10        \u001b[36m0.2226\u001b[0m       \u001b[32m0.9512\u001b[0m        \u001b[35m0.1621\u001b[0m  1.1712\n",
            "     11        \u001b[36m0.2184\u001b[0m       \u001b[32m0.9529\u001b[0m        \u001b[35m0.1565\u001b[0m  0.8763\n",
            "     12        \u001b[36m0.2090\u001b[0m       \u001b[32m0.9541\u001b[0m        \u001b[35m0.1508\u001b[0m  0.8522\n",
            "     13        \u001b[36m0.2067\u001b[0m       \u001b[32m0.9570\u001b[0m        \u001b[35m0.1446\u001b[0m  0.8722\n",
            "     14        \u001b[36m0.1978\u001b[0m       \u001b[32m0.9570\u001b[0m        \u001b[35m0.1412\u001b[0m  0.8739\n",
            "     15        \u001b[36m0.1923\u001b[0m       \u001b[32m0.9582\u001b[0m        \u001b[35m0.1392\u001b[0m  0.8665\n",
            "     16        \u001b[36m0.1889\u001b[0m       0.9582        \u001b[35m0.1342\u001b[0m  0.8749\n",
            "     17        \u001b[36m0.1855\u001b[0m       \u001b[32m0.9612\u001b[0m        \u001b[35m0.1297\u001b[0m  0.8699\n",
            "     18        \u001b[36m0.1786\u001b[0m       \u001b[32m0.9613\u001b[0m        \u001b[35m0.1266\u001b[0m  0.8708\n",
            "     19        \u001b[36m0.1728\u001b[0m       \u001b[32m0.9615\u001b[0m        \u001b[35m0.1250\u001b[0m  0.8879\n",
            "     20        \u001b[36m0.1698\u001b[0m       0.9613        \u001b[35m0.1248\u001b[0m  0.8649\n"
          ]
        }
      ],
      "source": [
        "net.fit(X_train, y_train);"
      ]
    },
    {
      "cell_type": "markdown",
      "metadata": {
        "id": "5c3iyCKu_v7m"
      },
      "source": [
        "## Prediction"
      ]
    },
    {
      "cell_type": "code",
      "execution_count": 22,
      "metadata": {
        "id": "D7rdey0s_v7n"
      },
      "outputs": [],
      "source": [
        "from sklearn.metrics import accuracy_score"
      ]
    },
    {
      "cell_type": "code",
      "execution_count": 23,
      "metadata": {
        "id": "b9B8Zd6e_v7n"
      },
      "outputs": [],
      "source": [
        "y_pred = net.predict(X_test)"
      ]
    },
    {
      "cell_type": "code",
      "execution_count": 24,
      "metadata": {
        "id": "LCWachuM_v7o",
        "outputId": "b083ba1e-d80a-4f34-9aa9-25d97bb67e7d",
        "colab": {
          "base_uri": "https://localhost:8080/"
        }
      },
      "outputs": [
        {
          "output_type": "execute_result",
          "data": {
            "text/plain": [
              "0.9631428571428572"
            ]
          },
          "metadata": {},
          "execution_count": 24
        }
      ],
      "source": [
        "accuracy_score(y_test, y_pred)"
      ]
    },
    {
      "cell_type": "code",
      "source": [
        "X_test[0].shape"
      ],
      "metadata": {
        "colab": {
          "base_uri": "https://localhost:8080/"
        },
        "id": "UpRyfXveTi95",
        "outputId": "68503256-3fed-49c5-b31d-9681d22a2dfd"
      },
      "execution_count": 27,
      "outputs": [
        {
          "output_type": "execute_result",
          "data": {
            "text/plain": [
              "(784,)"
            ]
          },
          "metadata": {},
          "execution_count": 27
        }
      ]
    },
    {
      "cell_type": "code",
      "source": [
        "net.module_.forward(torch.tensor(X_test[0], device=device))"
      ],
      "metadata": {
        "colab": {
          "base_uri": "https://localhost:8080/"
        },
        "id": "DBkc0_c6Tu2U",
        "outputId": "13062d40-d0df-4537-a4f7-ac2ad7caef9c"
      },
      "execution_count": 34,
      "outputs": [
        {
          "output_type": "execute_result",
          "data": {
            "text/plain": [
              "tensor([2.8163e-08, 1.2802e-07, 1.7493e-04, 1.5174e-03, 8.6505e-10, 1.8852e-04,\n",
              "        6.6384e-09, 9.1162e-08, 9.9812e-01, 1.1959e-06], device='cuda:0',\n",
              "       grad_fn=<SoftmaxBackward0>)"
            ]
          },
          "metadata": {},
          "execution_count": 34
        }
      ]
    },
    {
      "cell_type": "markdown",
      "metadata": {
        "id": "0eRga6AV_v7o"
      },
      "source": [
        "An accuracy of about 96% for a network with only one hidden layer is not too bad.\n",
        "\n",
        "Let's take a look at some predictions that went wrong:"
      ]
    },
    {
      "cell_type": "code",
      "execution_count": 45,
      "metadata": {
        "id": "XddXR1_a_v7p"
      },
      "outputs": [],
      "source": [
        "error_mask = y_pred != y_test"
      ]
    },
    {
      "cell_type": "code",
      "execution_count": 46,
      "metadata": {
        "id": "hXlNTrlt_v7q",
        "outputId": "9cb4af6a-5ee2-48f8-c87e-5a040ed63e16",
        "colab": {
          "base_uri": "https://localhost:8080/",
          "height": 144
        }
      },
      "outputs": [
        {
          "output_type": "display_data",
          "data": {
            "text/plain": [
              "<Figure size 640x480 with 5 Axes>"
            ],
            "image/png": "[encoded data removed]"
          },
          "metadata": {}
        }
      ],
      "source": [
        "plot_example(X_test[error_mask], y_pred[error_mask])"
      ]
    },
    {
      "cell_type": "markdown",
      "metadata": {
        "id": "I2GsBaxH_v7r"
      },
      "source": [
        "# Convolutional Network\n",
        "PyTorch expects a 4 dimensional tensor as input for its 2D convolution layer. The dimensions represent:\n",
        "* Batch size\n",
        "* Number of channel\n",
        "* Height\n",
        "* Width\n",
        "\n",
        "As initial batch size the number of examples needs to be provided. MNIST data has only one channel. As stated above, each MNIST vector represents a 28x28 pixel image. Hence, the resulting shape for PyTorch tensor needs to be (x, 1, 28, 28)."
      ]
    },
    {
      "cell_type": "code",
      "execution_count": 35,
      "metadata": {
        "id": "Bwsaz88X_v7r"
      },
      "outputs": [],
      "source": [
        "XCnn = X.reshape(-1, 1, 28, 28)"
      ]
    },
    {
      "cell_type": "code",
      "execution_count": 36,
      "metadata": {
        "id": "Go0Yz8xl_v7s",
        "outputId": "42b030bb-b65d-494a-afbd-47f9a43a0c26",
        "colab": {
          "base_uri": "https://localhost:8080/"
        }
      },
      "outputs": [
        {
          "output_type": "execute_result",
          "data": {
            "text/plain": [
              "(70000, 1, 28, 28)"
            ]
          },
          "metadata": {},
          "execution_count": 36
        }
      ],
      "source": [
        "XCnn.shape"
      ]
    },
    {
      "cell_type": "code",
      "execution_count": 37,
      "metadata": {
        "id": "Rt8ETXGa_v7t"
      },
      "outputs": [],
      "source": [
        "XCnn_train, XCnn_test, y_train, y_test = train_test_split(XCnn, y, test_size=0.25, random_state=42)"
      ]
    },
    {
      "cell_type": "code",
      "execution_count": 38,
      "metadata": {
        "id": "-jQm85il_v7t",
        "outputId": "93476c89-b7bd-4d22-86db-981b732ee012",
        "colab": {
          "base_uri": "https://localhost:8080/"
        }
      },
      "outputs": [
        {
          "output_type": "execute_result",
          "data": {
            "text/plain": [
              "((52500, 1, 28, 28), (52500,))"
            ]
          },
          "metadata": {},
          "execution_count": 38
        }
      ],
      "source": [
        "XCnn_train.shape, y_train.shape"
      ]
    },
    {
      "cell_type": "code",
      "execution_count": 39,
      "metadata": {
        "id": "YdQ-ISvb_v7u"
      },
      "outputs": [],
      "source": [
        "class Cnn(nn.Module):\n",
        "    def __init__(self, dropout=0.5):\n",
        "        super(Cnn, self).__init__()\n",
        "        self.conv1 = nn.Conv2d(1, 32, kernel_size=3)\n",
        "        self.conv2 = nn.Conv2d(32, 64, kernel_size=3)\n",
        "        self.conv2_drop = nn.Dropout2d(p=dropout)\n",
        "        self.fc1 = nn.Linear(1600, 100) # 1600 = number channels * width * height\n",
        "        self.fc2 = nn.Linear(100, 10)\n",
        "        self.fc1_drop = nn.Dropout(p=dropout)\n",
        "\n",
        "    def forward(self, x):\n",
        "        x = torch.relu(F.max_pool2d(self.conv1(x), 2))\n",
        "        x = torch.relu(F.max_pool2d(self.conv2_drop(self.conv2(x)), 2))\n",
        "\n",
        "        # flatten over channel, height and width = 1600\n",
        "        x = x.view(-1, x.size(1) * x.size(2) * x.size(3))\n",
        "\n",
        "        x = torch.relu(self.fc1_drop(self.fc1(x)))\n",
        "        x = torch.softmax(self.fc2(x), dim=-1)\n",
        "        return x"
      ]
    },
    {
      "cell_type": "code",
      "execution_count": 40,
      "metadata": {
        "id": "WJrWyFfb_v7u"
      },
      "outputs": [],
      "source": [
        "torch.manual_seed(0)\n",
        "\n",
        "cnn = NeuralNetClassifier(\n",
        "    Cnn,\n",
        "    max_epochs=10,\n",
        "    lr=0.002,\n",
        "    optimizer=torch.optim.Adam,\n",
        "    device=device,\n",
        ")"
      ]
    },
    {
      "cell_type": "code",
      "execution_count": 41,
      "metadata": {
        "id": "KRtHfgg8_v7u",
        "outputId": "2df2811e-14ee-49e2-ffbf-05c7ca7b7d0c",
        "colab": {
          "base_uri": "https://localhost:8080/"
        }
      },
      "outputs": [
        {
          "output_type": "stream",
          "name": "stdout",
          "text": [
            "  epoch    train_loss    valid_acc    valid_loss     dur\n",
            "-------  ------------  -----------  ------------  ------\n",
            "      1        \u001b[36m0.4321\u001b[0m       \u001b[32m0.9717\u001b[0m        \u001b[35m0.0896\u001b[0m  1.9076\n",
            "      2        \u001b[36m0.1651\u001b[0m       \u001b[32m0.9785\u001b[0m        \u001b[35m0.0674\u001b[0m  1.3967\n",
            "      3        \u001b[36m0.1371\u001b[0m       \u001b[32m0.9821\u001b[0m        \u001b[35m0.0571\u001b[0m  1.3914\n",
            "      4        \u001b[36m0.1139\u001b[0m       \u001b[32m0.9850\u001b[0m        \u001b[35m0.0493\u001b[0m  1.6259\n",
            "      5        \u001b[36m0.1027\u001b[0m       \u001b[32m0.9862\u001b[0m        \u001b[35m0.0443\u001b[0m  1.6154\n",
            "      6        \u001b[36m0.0976\u001b[0m       \u001b[32m0.9866\u001b[0m        \u001b[35m0.0411\u001b[0m  1.3970\n",
            "      7        \u001b[36m0.0888\u001b[0m       0.9862        0.0424  1.3925\n",
            "      8        \u001b[36m0.0868\u001b[0m       \u001b[32m0.9879\u001b[0m        \u001b[35m0.0390\u001b[0m  1.3914\n",
            "      9        \u001b[36m0.0818\u001b[0m       0.9878        \u001b[35m0.0390\u001b[0m  1.4100\n",
            "     10        \u001b[36m0.0762\u001b[0m       \u001b[32m0.9887\u001b[0m        \u001b[35m0.0371\u001b[0m  1.4327\n"
          ]
        }
      ],
      "source": [
        "cnn.fit(XCnn_train, y_train);"
      ]
    },
    {
      "cell_type": "code",
      "execution_count": 42,
      "metadata": {
        "id": "p6V7wyzb_v7v"
      },
      "outputs": [],
      "source": [
        "y_pred_cnn = cnn.predict(XCnn_test)"
      ]
    },
    {
      "cell_type": "code",
      "execution_count": 43,
      "metadata": {
        "id": "ZSyiZ3p6_v7v",
        "outputId": "f2c283ca-7ea2-483c-e666-008ce97dd337",
        "colab": {
          "base_uri": "https://localhost:8080/"
        }
      },
      "outputs": [
        {
          "output_type": "execute_result",
          "data": {
            "text/plain": [
              "0.9882285714285715"
            ]
          },
          "metadata": {},
          "execution_count": 43
        }
      ],
      "source": [
        "accuracy_score(y_test, y_pred_cnn)"
      ]
    },
    {
      "cell_type": "markdown",
      "metadata": {
        "id": "npZlem33_v7v"
      },
      "source": [
        "An accuracy of >98% should suffice for this example!\n",
        "\n",
        "Let's see how we fare on the examples that went wrong before:"
      ]
    },
    {
      "cell_type": "code",
      "execution_count": 47,
      "metadata": {
        "id": "2oWL0xGC_v7w",
        "outputId": "879d5dba-4699-4a42-a3c6-e8987ebc1297",
        "colab": {
          "base_uri": "https://localhost:8080/"
        }
      },
      "outputs": [
        {
          "output_type": "execute_result",
          "data": {
            "text/plain": [
              "0.7674418604651163"
            ]
          },
          "metadata": {},
          "execution_count": 47
        }
      ],
      "source": [
        "accuracy_score(y_test[error_mask], y_pred_cnn[error_mask])"
      ]
    },
    {
      "cell_type": "markdown",
      "metadata": {
        "id": "8239U9fF_v7w"
      },
      "source": [
        "Over 70% of the previously misclassified images are now correctly identified."
      ]
    },
    {
      "cell_type": "code",
      "execution_count": 48,
      "metadata": {
        "id": "5vU1SXeV_v7x",
        "outputId": "18c58d18-64a1-4bde-8186-465c776e8bd0",
        "colab": {
          "base_uri": "https://localhost:8080/",
          "height": 144
        }
      },
      "outputs": [
        {
          "output_type": "display_data",
          "data": {
            "text/plain": [
              "<Figure size 640x480 with 5 Axes>"
            ],
            "image/png": "[encoded data removed]"
          },
          "metadata": {}
        }
      ],
      "source": [
        "plot_example(X_test[error_mask], y_pred_cnn[error_mask])"
      ]
    },
    {
      "cell_type": "code",
      "execution_count": 63,
      "metadata": {
        "id": "h-tIl3el_v7x",
        "colab": {
          "base_uri": "https://localhost:8080/"
        },
        "outputId": "373886be-a5fc-474c-b8a7-88d4a68f5692"
      },
      "outputs": [
        {
          "output_type": "stream",
          "name": "stderr",
          "text": [
            "<ipython-input-63-e18358f52827>:14: UserWarning: To copy construct from a tensor, it is recommended to use sourceTensor.clone().detach() or sourceTensor.clone().detach().requires_grad_(True), rather than torch.tensor(sourceTensor).\n",
            "  features = cnn.module_.forward(torch.tensor(batch, device=device))\n",
            "<ipython-input-63-e18358f52827>:23: UserWarning: To copy construct from a tensor, it is recommended to use sourceTensor.clone().detach() or sourceTensor.clone().detach().requires_grad_(True), rather than torch.tensor(sourceTensor).\n",
            "  features = cnn.module_.forward(torch.tensor(batch, device=device))\n"
          ]
        },
        {
          "output_type": "stream",
          "name": "stdout",
          "text": [
            "Logistic Regression accuracy with CNN features: 0.9885142857142857\n"
          ]
        }
      ],
      "source": [
        "# prompt: Write a code snippet that 1. Will use the CNN above to extract features 2. Use such features in a sklearn pipeline to train a logistic regression 3. compute accuracy to see how it compares with the other models\n",
        "\n",
        "import numpy as np\n",
        "from sklearn.pipeline import Pipeline\n",
        "from sklearn.linear_model import LogisticRegression\n",
        "from sklearn.metrics import accuracy_score\n",
        "from sklearn.preprocessing import StandardScaler\n",
        "\n",
        "# Extract features using the trained CNN\n",
        "cnn_features_train = []\n",
        "for i in range(0, len(XCnn_train), 100):  # Process in batches to avoid memory issues\n",
        "    batch = XCnn_train[i:i+100]\n",
        "    with torch.no_grad():\n",
        "        features = cnn.module_.forward(torch.tensor(batch, device=device))\n",
        "        cnn_features_train.extend(features.cpu().numpy())\n",
        "cnn_features_train = np.array(cnn_features_train)\n",
        "\n",
        "\n",
        "cnn_features_test = []\n",
        "for i in range(0, len(XCnn_test), 100):\n",
        "    batch = XCnn_test[i:i+100]\n",
        "    with torch.no_grad():\n",
        "        features = cnn.module_.forward(torch.tensor(batch, device=device))\n",
        "        cnn_features_test.extend(features.cpu().numpy())\n",
        "cnn_features_test = np.array(cnn_features_test)\n",
        "\n",
        "# Create and train a logistic regression model using the extracted features\n",
        "pipeline = Pipeline([\n",
        "    ('clf', LogisticRegression(max_iter=1000)) # Increased max_iter for convergence\n",
        "])\n",
        "\n",
        "pipeline.fit(cnn_features_train, y_train)\n",
        "\n",
        "# Predict and evaluate the model\n",
        "y_pred_lr = pipeline.predict(cnn_features_test)\n",
        "accuracy_lr = accuracy_score(y_test, y_pred_lr)\n",
        "print(f\"Logistic Regression accuracy with CNN features: {accuracy_lr}\")\n"
      ]
    },
    {
      "cell_type": "code",
      "source": [
        "# prompt: Repeat what you did above, but instead of the CNN built above, use another famous model like Resnet or Alexnet downloaded from huggingface transformers\n",
        "\n",
        "import numpy as np\n",
        "#!pip install transformers\n",
        "\n",
        "from transformers import ResNetModel\n",
        "import torch\n",
        "\n",
        "# Assuming XCnn_train and XCnn_test are defined as in the previous code\n",
        "\n",
        "# Load pre-trained ResNet model from Hugging Face Transformers\n",
        "resnet_model = ResNetModel.from_pretrained(\"microsoft/resnet-50\")\n",
        "resnet_model.to(device) # Move to GPU if available\n",
        "\n",
        "# Repeat the grayscale image 3 times to create a 3-channel input\n",
        "XCnn_train_3ch = XCnn_train.repeat(1, 3, 1, 1) # Repeat along the channel dimension\n",
        "XCnn_test_3ch = XCnn_test.repeat(1, 3, 1, 1)\n",
        "\n",
        "XCnn_train_3ch = torch.tensor(XCnn_train_3ch, device=device)\n",
        "XCnn_test_3ch = torch.tensor(XCnn_test_3ch, device=device)\n",
        "\n",
        "# Extract features using the ResNet model\n",
        "resnet_features_train = []\n",
        "for i in range(0, len(XCnn_train_3ch), 100):\n",
        "    batch = XCnn_train_3ch[i:i+100].to(device)\n",
        "    with torch.no_grad():\n",
        "      outputs = resnet_model(batch)\n",
        "      # Extract features from the average of the last hidden state\n",
        "      features = outputs.last_hidden_state.mean(dim=[1,2]).cpu().numpy()\n",
        "      resnet_features_train.extend(features)\n",
        "\n",
        "resnet_features_train = np.array(resnet_features_train)\n",
        "\n",
        "\n",
        "resnet_features_test = []\n",
        "for i in range(0, len(XCnn_test_3ch), 100):\n",
        "    batch = XCnn_test_3ch[i:i+100].to(device)\n",
        "    with torch.no_grad():\n",
        "      outputs = resnet_model(batch)\n",
        "      # Extract features from the average of the last hidden state\n",
        "      features = outputs.last_hidden_state.mean(dim=[1,2]).cpu().numpy()\n",
        "      resnet_features_test.extend(features)\n",
        "\n",
        "resnet_features_test = np.array(resnet_features_test)"
      ],
      "metadata": {
        "colab": {
          "base_uri": "https://localhost:8080/"
        },
        "id": "BwUzuL8SVi6h",
        "outputId": "0e8c6cc3-d4b9-4ebc-f178-c279c675a1c7"
      },
      "execution_count": 59,
      "outputs": [
        {
          "output_type": "stream",
          "name": "stderr",
          "text": [
            "<ipython-input-59-f5a89ccc2789>:19: UserWarning: To copy construct from a tensor, it is recommended to use sourceTensor.clone().detach() or sourceTensor.clone().detach().requires_grad_(True), rather than torch.tensor(sourceTensor).\n",
            "  XCnn_train_3ch = torch.tensor(XCnn_train_3ch, device=device)\n",
            "<ipython-input-59-f5a89ccc2789>:20: UserWarning: To copy construct from a tensor, it is recommended to use sourceTensor.clone().detach() or sourceTensor.clone().detach().requires_grad_(True), rather than torch.tensor(sourceTensor).\n",
            "  XCnn_test_3ch = torch.tensor(XCnn_test_3ch, device=device)\n"
          ]
        }
      ]
    },
    {
      "cell_type": "code",
      "source": [
        "resnet_features_train.shape"
      ],
      "metadata": {
        "colab": {
          "base_uri": "https://localhost:8080/"
        },
        "id": "SgRbPHr7Xe-R",
        "outputId": "6bb65067-56b4-4f91-a174-f58878b8472d"
      },
      "execution_count": 60,
      "outputs": [
        {
          "output_type": "execute_result",
          "data": {
            "text/plain": [
              "(52500, 1)"
            ]
          },
          "metadata": {},
          "execution_count": 60
        }
      ]
    },
    {
      "cell_type": "code",
      "source": [
        "# Reshape the features to 2D before fitting\n",
        "resnet_features_train_2d = resnet_features_train.reshape(resnet_features_train.shape[0], -1)\n",
        "resnet_features_test_2d = resnet_features_test.reshape(resnet_features_test.shape[0], -1)"
      ],
      "metadata": {
        "id": "I0ZFF2mKXrU6"
      },
      "execution_count": 64,
      "outputs": []
    },
    {
      "cell_type": "code",
      "source": [
        "# Create and train a logistic regression model using the extracted features\n",
        "pipeline = Pipeline([\n",
        "       ('scaler', StandardScaler()),  # Add StandardScaler for feature scaling\n",
        "       ('clf', LogisticRegression(max_iter=1000))\n",
        "   ])\n",
        "\n",
        "pipeline.fit(resnet_features_train_2d, y_train)\n",
        "\n",
        "\n",
        "# Predict and evaluate the model\n",
        "y_pred_lr = pipeline.predict(resnet_features_test_2d)\n",
        "accuracy_lr = accuracy_score(y_test, y_pred_lr)\n",
        "print(f\"Logistic Regression accuracy with ResNet features: {accuracy_lr}\")"
      ],
      "metadata": {
        "colab": {
          "base_uri": "https://localhost:8080/"
        },
        "id": "u5vBTrIAW9wy",
        "outputId": "fb9118a7-be51-4724-e443-fdf74f81cc30"
      },
      "execution_count": 65,
      "outputs": [
        {
          "output_type": "stream",
          "name": "stdout",
          "text": [
            "Logistic Regression accuracy with ResNet features: 0.24097142857142856\n"
          ]
        }
      ]
    },
    {
      "cell_type": "code",
      "source": [],
      "metadata": {
        "id": "aksQ1jMBWYnu"
      },
      "execution_count": null,
      "outputs": []
    }
  ],
  "metadata": {
    "kernelspec": {
      "display_name": "Python 3",
      "name": "python3"
    },
    "language_info": {
      "codemirror_mode": {
        "name": "ipython",
        "version": 3
      },
      "file_extension": ".py",
      "mimetype": "text/x-python",
      "name": "python",
      "nbconvert_exporter": "python",
      "pygments_lexer": "ipython3",
      "version": "3.7.13 (default, Mar 28 2022, 08:03:21) [MSC v.1916 64 bit (AMD64)]"
    },
    "vscode": {
      "interpreter": {
        "hash": "bd97b8bffa4d3737e84826bc3d37be3046061822757ce35137ab82ad4c5a2016"
      }
    },
    "colab": {
      "provenance": [],
      "gpuType": "T4",
      "include_colab_link": true
    },
    "accelerator": "GPU"
  },
  "nbformat": 4,
  "nbformat_minor": 0
}